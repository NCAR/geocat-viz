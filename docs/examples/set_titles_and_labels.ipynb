{
 "cells": [
  {
   "cell_type": "markdown",
   "metadata": {},
   "source": [
    "# `set_titles_and_labels`\n",
    "\n",
    "This notebook is a simple example of the GeoCAT-viz function <a href=\"../user_api/generated/geocat.viz.util.set_titles_and_labels.html#geocat-viz.util.set_titles_and_labels\">set_titles_and_labels</a>."
   ]
  },
  {
   "cell_type": "code",
   "execution_count": null,
   "metadata": {},
   "outputs": [],
   "source": [
    "# Import packages:\n",
    "\n",
    "import numpy as np\n",
    "import matplotlib.pyplot as plt\n",
    "\n",
    "import geocat.viz as gv"
   ]
  },
  {
   "cell_type": "code",
   "execution_count": null,
   "metadata": {},
   "outputs": [],
   "source": [
    "# Generate example data:\n",
    "\n",
    "npts = 500\n",
    "\n",
    "x = 500 + 0.9 * np.arange(0, npts) * np.cos(np.pi / 100 * np.arange(0, npts))\n",
    "y = 500 + 0.9 * np.arange(0, npts) * np.sin(np.pi / 100 * np.arange(0, npts))"
   ]
  },
  {
   "cell_type": "code",
   "execution_count": null,
   "metadata": {},
   "outputs": [],
   "source": [
    "# Create plot with a subtitle\n",
    "\n",
    "# Create a figure\n",
    "fig, ax = plt.subplots()\n",
    "\n",
    "# Plot the example data\n",
    "ax.plot(x, y)\n",
    "\n",
    "# Use geocat.viz.util convenience function to set titles and labels\n",
    "gv.set_titles_and_labels(ax,\n",
    "                         maintitle=\"Title\",\n",
    "                         maintitlefontsize=24,\n",
    "                         subtitle=\"Subtitle\",\n",
    "                         xlabel=\"x\",\n",
    "                         ylabel=\"y\",\n",
    "                         labelfontsize=16)\n",
    "\n",
    "# Show the plot\n",
    "plt.show();"
   ]
  },
  {
   "cell_type": "code",
   "execution_count": null,
   "metadata": {},
   "outputs": [],
   "source": [
    "# Create plot with left and right subtitles\n",
    "\n",
    "# Create a figure\n",
    "fig, ax = plt.subplots()\n",
    "\n",
    "# Plot the example data\n",
    "ax.plot(x, y)\n",
    "\n",
    "# Use geocat.viz.util convenience function to set titles and labels\n",
    "gv.set_titles_and_labels(ax,\n",
    "                         maintitle=\"Title\",\n",
    "                         maintitlefontsize=24,\n",
    "                         lefttitle=\"Left title\",\n",
    "                         righttitle='Right title',\n",
    "                         xlabel=\"x\",\n",
    "                         ylabel=\"y\",\n",
    "                         labelfontsize=16)\n",
    "\n",
    "# Show the plot\n",
    "plt.show();"
   ]
  }
 ],
 "metadata": {
  "kernelspec": {
   "display_name": "Python 3 (ipykernel)",
   "language": "python",
   "name": "python3"
  },
  "language_info": {
   "codemirror_mode": {
    "name": "ipython",
    "version": 3
   },
   "file_extension": ".py",
   "mimetype": "text/x-python",
   "name": "python",
   "nbconvert_exporter": "python",
   "pygments_lexer": "ipython3",
   "version": "3.11.6"
  }
 },
 "nbformat": 4,
 "nbformat_minor": 4
}
