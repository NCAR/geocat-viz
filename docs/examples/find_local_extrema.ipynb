{
 "cells": [
  {
   "cell_type": "markdown",
   "metadata": {},
   "source": [
    "# `find_local_extrema`\n",
    "\n",
    "This notebook is a simple example of the GeoCAT-viz function <a href=\"../user_api/generated/geocat.viz.util.find_local_extrema.html#geocat-viz.util.find_local_extrema\">find_local_extrema</a>."
   ]
  },
  {
   "cell_type": "code",
   "execution_count": null,
   "metadata": {},
   "outputs": [],
   "source": [
    "import numpy as np\n",
    "import xarray as xr\n",
    "import matplotlib.pyplot as plt\n",
    "\n",
    "import geocat.viz as gv"
   ]
  },
  {
   "cell_type": "code",
   "execution_count": null,
   "metadata": {},
   "outputs": [],
   "source": [
    "# Generate dummy data\n",
    "data = [[1, 4, 5, 6, 8.2],\n",
    "        [9, 8.4, 10, 10.6, 9.7],\n",
    "        [4.4, 5, 0, 6.6, 1.4],\n",
    "        [4.6, 5.2, 1.5, 7.6, 2.4]]\n",
    "\n",
    "# Convert data into type xarray.DataArray\n",
    "data = xr.DataArray(data,\n",
    "                    dims=[\"lat\", \"lon\"],\n",
    "                    coords=dict(lat=np.arange(4), lon=np.arange(5)))"
   ]
  },
  {
   "cell_type": "code",
   "execution_count": null,
   "metadata": {},
   "outputs": [],
   "source": [
    "# Plot:\n",
    "\n",
    "# Generate figure (set its size (width, height) in inches)\n",
    "plt.figure(figsize=(9.5, 8))\n",
    "\n",
    "# Generate axes\n",
    "ax = plt.axes()\n",
    "\n",
    "# Plot filled contour and contour lines\n",
    "contours = ax.contourf(data)\n",
    "\n",
    "# Find local min/max extrema with GeoCAT-Viz find_local_extrema\n",
    "lmin = gv.find_local_extrema(data, eType='Low')[0]\n",
    "lmax = gv.find_local_extrema(data, eType='High')[0]\n",
    "\n",
    "# Plot labels for local extrema\n",
    "min_value = data.data[lmin[1]][lmin[0]]\n",
    "ax.text(lmin[0], lmin[1], str(min_value))\n",
    "\n",
    "max_value = data.data[lmax[1]][lmax[0]]\n",
    "ax.text(lmax[0], lmax[1], str(max_value))\n",
    "\n",
    "# Show plot\n",
    "plt.show();"
   ]
  }
 ],
 "metadata": {
  "kernelspec": {
   "display_name": "geocat_viz_build",
   "language": "python",
   "name": "python3"
  },
  "language_info": {
   "codemirror_mode": {
    "name": "ipython",
    "version": 3
   },
   "file_extension": ".py",
   "mimetype": "text/x-python",
   "name": "python",
   "nbconvert_exporter": "python",
   "pygments_lexer": "ipython3",
   "version": "3.10.10"
  },
  "orig_nbformat": 4
 },
 "nbformat": 4,
 "nbformat_minor": 2
}
