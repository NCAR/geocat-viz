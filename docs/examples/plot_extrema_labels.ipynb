{
 "cells": [
  {
   "cell_type": "markdown",
   "metadata": {},
   "source": [
    "# `plot_extrema_labels`\n",
    "\n",
    "This notebook is a simple example of the GeoCAT-viz function <a href=\"../user_api/generated/geocat.viz.util.plot_extrema_labels.html#geocat-viz.util.plot_extrema_labels\">plot_extrema_labels</a>."
   ]
  },
  {
   "cell_type": "code",
   "execution_count": null,
   "metadata": {},
   "outputs": [],
   "source": [
    "# Import packages:\n",
    "\n",
    "import xarray as xr\n",
    "import cartopy.crs as ccrs\n",
    "import cartopy.feature as cfeature\n",
    "import numpy as np\n",
    "import matplotlib.pyplot as plt\n",
    "from matplotlib import colors\n",
    "import matplotlib.ticker as mticker\n",
    "\n",
    "import geocat.datafiles as gdf\n",
    "import geocat.viz as gv"
   ]
  },
  {
   "cell_type": "code",
   "execution_count": null,
   "metadata": {},
   "outputs": [],
   "source": [
    "# Read in data:\n",
    "\n",
    "# Open a netCDF data file using xarray default engine and\n",
    "# load the data into xarrays\n",
    "ds = xr.open_dataset(gdf.get(\"netcdf_files/slp.1963.nc\"), decode_times=False)\n",
    "\n",
    "# Get data from the 21st timestep\n",
    "pressure = ds.slp[21, :, :]\n",
    "\n",
    "# Translate float values to short values\n",
    "pressure = pressure.astype('float32')\n",
    "\n",
    "# Convert Pa to hPa data\n",
    "pressure = pressure * 0.01\n",
    "\n",
    "# Fix the artifact of not-shown-data around 0 and 360-degree longitudes\n",
    "wrap_pressure = gv.xr_add_cyclic_longitudes(pressure, \"lon\")"
   ]
  },
  {
   "cell_type": "code",
   "execution_count": null,
   "metadata": {},
   "outputs": [],
   "source": [
    "# Create plot\n",
    "\n",
    "# Set figure size\n",
    "fig = plt.figure(figsize=(8, 8))\n",
    "\n",
    "# Set global axes with an orthographic projection\n",
    "proj = ccrs.Orthographic(central_longitude=270, central_latitude=45)\n",
    "ax = plt.axes(projection=proj)\n",
    "ax.set_global()\n",
    "\n",
    "# Plot contour data\n",
    "p = wrap_pressure.plot.contour(ax=ax,\n",
    "                               transform=ccrs.PlateCarree(),\n",
    "                               linewidths=0.3,\n",
    "                               levels=30,\n",
    "                               cmap='black',\n",
    "                               add_labels=False)\n",
    "\n",
    "# low pressure contour levels- these will be plotted\n",
    "# as a subscript to an 'L' symbol.\n",
    "lowClevels = gv.find_local_extrema(pressure, lowVal=995, eType='Low')\n",
    "highClevels = gv.find_local_extrema(pressure, highVal=1042, eType='High')\n",
    "\n",
    "# Label low and high contours\n",
    "gv.plot_extrema_labels(wrap_pressure,\n",
    "                       ccrs.Geodetic(),\n",
    "                       proj,\n",
    "                       label_locations=lowClevels,\n",
    "                       label='L',\n",
    "                       show_warnings=False)\n",
    "gv.plot_extrema_labels(wrap_pressure,\n",
    "                       ccrs.Geodetic(),\n",
    "                       proj,\n",
    "                       label_locations=highClevels,\n",
    "                       label='H',\n",
    "                       show_warnings=False)\n",
    "\n",
    "\n",
    "plt.show();"
   ]
  }
 ],
 "metadata": {
  "kernelspec": {
   "display_name": "geocat_viz_build",
   "language": "python",
   "name": "python3"
  },
  "language_info": {
   "codemirror_mode": {
    "name": "ipython",
    "version": 3
   },
   "file_extension": ".py",
   "mimetype": "text/x-python",
   "name": "python",
   "nbconvert_exporter": "python",
   "pygments_lexer": "ipython3",
   "version": "3.10.0"
  },
  "orig_nbformat": 4
 },
 "nbformat": 4,
 "nbformat_minor": 2
}
