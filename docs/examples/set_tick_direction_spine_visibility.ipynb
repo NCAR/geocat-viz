{
 "cells": [
  {
   "attachments": {},
   "cell_type": "markdown",
   "metadata": {},
   "source": [
    "# `set_tick_direction_spine_visibility`\n",
    "\n",
    "This notebook is a simple example of the GeoCAT-viz function <a href=\"../user_api/generated/geocat.viz.util.set_tick_direction_spine_visibility.html#geocat-viz.util.set_tick_direction_spine_visibility\">set_tick_direction_spine_visibility</a>."
   ]
  },
  {
   "cell_type": "code",
   "execution_count": null,
   "metadata": {},
   "outputs": [],
   "source": [
    "# Import packages:\n",
    "\n",
    "import matplotlib.pyplot as plt\n",
    "import geocat.viz as gv"
   ]
  },
  {
   "cell_type": "code",
   "execution_count": null,
   "metadata": {},
   "outputs": [],
   "source": [
    "# Plot:\n",
    "\n",
    "# Create figure and axis\n",
    "fig, ax = plt.subplots(figsize=(6, 6))\n",
    "\n",
    "# Use geocat.viz.util convenience function to set spines visibility\n",
    "gv.set_tick_direction_spine_visibility(ax,\n",
    "                                       tick_direction='in',\n",
    "                                       top_spine_visible=False,\n",
    "                                       right_spine_visible=False)\n",
    "\n",
    "# Display Plot\n",
    "plt.tight_layout()\n",
    "plt.show();"
   ]
  }
 ],
 "metadata": {
  "kernelspec": {
   "display_name": "geocat_viz_build",
   "language": "python",
   "name": "python3"
  },
  "language_info": {
   "codemirror_mode": {
    "name": "ipython",
    "version": 3
   },
   "file_extension": ".py",
   "mimetype": "text/x-python",
   "name": "python",
   "nbconvert_exporter": "python",
   "pygments_lexer": "ipython3",
   "version": "3.10.0"
  },
  "orig_nbformat": 4
 },
 "nbformat": 4,
 "nbformat_minor": 2
}
