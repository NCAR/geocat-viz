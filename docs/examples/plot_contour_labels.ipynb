{
 "cells": [
  {
   "cell_type": "markdown",
   "metadata": {},
   "source": [
    "# `plot_contour_labels`\n",
    "\n",
    "This notebook is a simple example of the GeoCAT-viz function <a href=\"../user_api/generated/geocat.viz.util.plot_contour_labels.html#geocat-viz.util.plot_contour_labels\">plot_contour_labels</a>."
   ]
  },
  {
   "cell_type": "code",
   "execution_count": null,
   "metadata": {},
   "outputs": [],
   "source": [
    "# Import packages:\n",
    "\n",
    "import xarray as xr\n",
    "import matplotlib.pyplot as plt\n",
    "import cartopy.crs as ccrs\n",
    "import cartopy.feature as cfeature\n",
    "import numpy as np\n",
    "\n",
    "import geocat.datafiles as gdf\n",
    "import geocat.viz as gv"
   ]
  },
  {
   "cell_type": "code",
   "execution_count": null,
   "metadata": {},
   "outputs": [],
   "source": [
    "# Read in data:\n",
    "\n",
    "# Open a netCDF data file using xarray default engine and\n",
    "# load the data into xarrays\n",
    "ds = xr.open_dataset(gdf.get(\"netcdf_files/slp.1963.nc\"), decode_times=False)\n",
    "\n",
    "# Get data from the 24th timestep\n",
    "pressure = ds.slp[24, :, :]\n",
    "\n",
    "# Translate short values to float values\n",
    "pressure = pressure.astype('float64')\n",
    "\n",
    "# Convert Pa to hPa data\n",
    "pressure = pressure * 0.01\n",
    "\n",
    "# Fix the artifact of not-shown-data around 0 and 360-degree longitudes\n",
    "wrap_pressure = gv.xr_add_cyclic_longitudes(pressure, \"lon\")"
   ]
  },
  {
   "cell_type": "code",
   "execution_count": null,
   "metadata": {},
   "outputs": [],
   "source": [
    "# Create plot\n",
    "\n",
    "# Set figure size\n",
    "fig = plt.figure(figsize=(8, 8))\n",
    "\n",
    "# Set global axes with an orthographic projection\n",
    "proj = ccrs.Orthographic(central_longitude=270, central_latitude=45)\n",
    "ax = plt.axes(projection=proj)\n",
    "ax.set_global()\n",
    "\n",
    "# Plot contour data\n",
    "p = wrap_pressure.plot.contour(ax=ax,\n",
    "                               transform=ccrs.PlateCarree(),\n",
    "                               linewidths=0.5,\n",
    "                               cmap='black',\n",
    "                               add_labels=False)\n",
    "\n",
    "contour_label_locations = [(176.4, 34.63), (-150.46, 42.44), (-142.16, 28.5),\n",
    "                        (-134.12, 16.32), (-108.9, 17.08), (-98.17, 15.6),\n",
    "                        (-108.73, 42.19), (-111.25, 49.66), (-127.83, 41.93),\n",
    "                        (-92.49, 25.64), (-77.29, 29.08), (-77.04, 16.42),\n",
    "                        (-95.93, 57.59), (-156.05, 84.47), (-17.83, 82.52),\n",
    "                        (-76.3, 41.99), (-48.89, 41.45), (-33.43, 37.55),\n",
    "                        (-46.98, 17.17), (1.79, 63.67), (-58.78, 67.05),\n",
    "                        (-44.78, 53.68), (-69.69, 53.71), (-78.02, 52.22),\n",
    "                        (-16.91, 44.33), (-95.72, 35.17), (-102.69, 73.62)]\n",
    "\n",
    "# Plot Clabels\n",
    "gv.plot_contour_labels(ax,\n",
    "                       p,\n",
    "                       ccrs.Geodetic(),\n",
    "                       proj,\n",
    "                       clabel_locations=contour_label_locations)\n",
    "\n",
    "\n",
    "# Make layout tight\n",
    "plt.tight_layout()\n",
    "\n",
    "plt.show();"
   ]
  }
 ],
 "metadata": {
  "kernelspec": {
   "display_name": "geocat_viz_build",
   "language": "python",
   "name": "python3"
  },
  "language_info": {
   "codemirror_mode": {
    "name": "ipython",
    "version": 3
   },
   "file_extension": ".py",
   "mimetype": "text/x-python",
   "name": "python",
   "nbconvert_exporter": "python",
   "pygments_lexer": "ipython3",
   "version": "3.10.0"
  },
  "orig_nbformat": 4
 },
 "nbformat": 4,
 "nbformat_minor": 2
}
